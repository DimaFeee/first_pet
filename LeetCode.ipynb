{
 "cells": [
  {
   "cell_type": "code",
   "execution_count": 1,
   "id": "11c065d9-9375-401b-8e41-d3079e97a8c6",
   "metadata": {},
   "outputs": [
    {
     "name": "stdout",
     "output_type": "stream",
     "text": [
      "ASCII code Z = 122\n",
      "row =  string\n",
      "sum codes =  24\n"
     ]
    }
   ],
   "source": [
    "# 1. Two sum\n",
    "print('ASCII code Z =', ord('z'))\n",
    "s = 'string'\n",
    "sum = 0\n",
    "for i in range(len(s)-1):\n",
    "    sum +=(abs(ord(s[i])-ord(s[i+1])))\n",
    "\n",
    "print('row = ', s)\n",
    "print('sum codes = ', sum)"
   ]
  },
  {
   "cell_type": "code",
   "execution_count": 4,
   "id": "cb722370-cb05-4139-8728-756e7043a8e0",
   "metadata": {},
   "outputs": [
    {
     "data": {
      "text/html": [
       "<div>\n",
       "<style scoped>\n",
       "    .dataframe tbody tr th:only-of-type {\n",
       "        vertical-align: middle;\n",
       "    }\n",
       "\n",
       "    .dataframe tbody tr th {\n",
       "        vertical-align: top;\n",
       "    }\n",
       "\n",
       "    .dataframe thead th {\n",
       "        text-align: right;\n",
       "    }\n",
       "</style>\n",
       "<table border=\"1\" class=\"dataframe\">\n",
       "  <thead>\n",
       "    <tr style=\"text-align: right;\">\n",
       "      <th></th>\n",
       "      <th>personId</th>\n",
       "      <th>lastName</th>\n",
       "      <th>firstName</th>\n",
       "    </tr>\n",
       "  </thead>\n",
       "  <tbody>\n",
       "    <tr>\n",
       "      <th>0</th>\n",
       "      <td>1</td>\n",
       "      <td>Ivanov</td>\n",
       "      <td>Alex</td>\n",
       "    </tr>\n",
       "    <tr>\n",
       "      <th>1</th>\n",
       "      <td>2</td>\n",
       "      <td>Li</td>\n",
       "      <td>Vano</td>\n",
       "    </tr>\n",
       "    <tr>\n",
       "      <th>2</th>\n",
       "      <td>3</td>\n",
       "      <td>Ki</td>\n",
       "      <td>All</td>\n",
       "    </tr>\n",
       "  </tbody>\n",
       "</table>\n",
       "</div>"
      ],
      "text/plain": [
       "   personId lastName firstName\n",
       "0         1   Ivanov      Alex\n",
       "1         2       Li      Vano\n",
       "2         3       Ki       All"
      ]
     },
     "execution_count": 4,
     "metadata": {},
     "output_type": "execute_result"
    }
   ],
   "source": [
    "# 175. Combine Two Tables\n",
    "import pandas as pd\n",
    "\n",
    "data_person = {\n",
    "  \"personId\": [1, 2, 3],\n",
    "  \"lastName\": ['Ivanov', 'Li', 'Ki'],\n",
    "  \"firstName\": ['Alex', 'Vano', 'All']\n",
    "}\n",
    "\n",
    "df_pers = pd.DataFrame(data_person)\n",
    "df_pers"
   ]
  },
  {
   "cell_type": "code",
   "execution_count": 5,
   "id": "bc7f4644-bedb-44d5-87e5-d3e73a59b076",
   "metadata": {},
   "outputs": [
    {
     "data": {
      "text/html": [
       "<div>\n",
       "<style scoped>\n",
       "    .dataframe tbody tr th:only-of-type {\n",
       "        vertical-align: middle;\n",
       "    }\n",
       "\n",
       "    .dataframe tbody tr th {\n",
       "        vertical-align: top;\n",
       "    }\n",
       "\n",
       "    .dataframe thead th {\n",
       "        text-align: right;\n",
       "    }\n",
       "</style>\n",
       "<table border=\"1\" class=\"dataframe\">\n",
       "  <thead>\n",
       "    <tr style=\"text-align: right;\">\n",
       "      <th></th>\n",
       "      <th>personId</th>\n",
       "      <th>addressId</th>\n",
       "      <th>city</th>\n",
       "    </tr>\n",
       "  </thead>\n",
       "  <tbody>\n",
       "    <tr>\n",
       "      <th>0</th>\n",
       "      <td>1</td>\n",
       "      <td>42</td>\n",
       "      <td>Moscow</td>\n",
       "    </tr>\n",
       "    <tr>\n",
       "      <th>1</th>\n",
       "      <td>2</td>\n",
       "      <td>2</td>\n",
       "      <td>Blaburg</td>\n",
       "    </tr>\n",
       "  </tbody>\n",
       "</table>\n",
       "</div>"
      ],
      "text/plain": [
       "   personId  addressId     city\n",
       "0         1         42   Moscow\n",
       "1         2          2  Blaburg"
      ]
     },
     "execution_count": 5,
     "metadata": {},
     "output_type": "execute_result"
    }
   ],
   "source": [
    "data_adres = {\n",
    "  \"personId\": [1, 2],\n",
    "  \"addressId\": [42, 2],\n",
    "  \"city\": ['Moscow', 'Blaburg']\n",
    "}\n",
    "\n",
    "df_adres = pd.DataFrame(data_adres)\n",
    "df_adres"
   ]
  },
  {
   "cell_type": "code",
   "execution_count": 7,
   "id": "337c8d87-fbd8-46cd-a9df-2662d2bf7a31",
   "metadata": {},
   "outputs": [
    {
     "data": {
      "text/html": [
       "<div>\n",
       "<style scoped>\n",
       "    .dataframe tbody tr th:only-of-type {\n",
       "        vertical-align: middle;\n",
       "    }\n",
       "\n",
       "    .dataframe tbody tr th {\n",
       "        vertical-align: top;\n",
       "    }\n",
       "\n",
       "    .dataframe thead th {\n",
       "        text-align: right;\n",
       "    }\n",
       "</style>\n",
       "<table border=\"1\" class=\"dataframe\">\n",
       "  <thead>\n",
       "    <tr style=\"text-align: right;\">\n",
       "      <th></th>\n",
       "      <th>personId</th>\n",
       "      <th>lastName</th>\n",
       "      <th>firstName</th>\n",
       "      <th>addressId</th>\n",
       "      <th>city</th>\n",
       "    </tr>\n",
       "  </thead>\n",
       "  <tbody>\n",
       "    <tr>\n",
       "      <th>0</th>\n",
       "      <td>1</td>\n",
       "      <td>Ivanov</td>\n",
       "      <td>Alex</td>\n",
       "      <td>42.0</td>\n",
       "      <td>Moscow</td>\n",
       "    </tr>\n",
       "    <tr>\n",
       "      <th>1</th>\n",
       "      <td>2</td>\n",
       "      <td>Li</td>\n",
       "      <td>Vano</td>\n",
       "      <td>2.0</td>\n",
       "      <td>Blaburg</td>\n",
       "    </tr>\n",
       "    <tr>\n",
       "      <th>2</th>\n",
       "      <td>3</td>\n",
       "      <td>Ki</td>\n",
       "      <td>All</td>\n",
       "      <td>NaN</td>\n",
       "      <td>NaN</td>\n",
       "    </tr>\n",
       "  </tbody>\n",
       "</table>\n",
       "</div>"
      ],
      "text/plain": [
       "   personId lastName firstName  addressId     city\n",
       "0         1   Ivanov      Alex       42.0   Moscow\n",
       "1         2       Li      Vano        2.0  Blaburg\n",
       "2         3       Ki       All        NaN      NaN"
      ]
     },
     "execution_count": 7,
     "metadata": {},
     "output_type": "execute_result"
    }
   ],
   "source": [
    "df_pers.merge(df_adres,on='personId',how='left')"
   ]
  },
  {
   "cell_type": "code",
   "execution_count": 16,
   "id": "719699f1-645f-47e2-99d8-5b6442d72af0",
   "metadata": {},
   "outputs": [
    {
     "ename": "SyntaxError",
     "evalue": "invalid syntax (730943360.py, line 3)",
     "output_type": "error",
     "traceback": [
      "\u001b[0;36m  Cell \u001b[0;32mIn[16], line 3\u001b[0;36m\u001b[0m\n\u001b[0;31m    result mer\u001b[0m\n\u001b[0m           ^\u001b[0m\n\u001b[0;31mSyntaxError\u001b[0m\u001b[0;31m:\u001b[0m invalid syntax\n"
     ]
    }
   ],
   "source": [
    "def combine_two_tables(person: pd.DataFrame, address: pd.DataFrame) -> pd.DataFrame:\n",
    "    mer = person.merge(address,on='personId',how='left')\n",
    "    result mer"
   ]
  },
  {
   "cell_type": "code",
   "execution_count": 17,
   "id": "638037c7-f6aa-4398-b1bc-8f49c28f4564",
   "metadata": {},
   "outputs": [],
   "source": [
    "combine_two_tables(df_pers,df_adres)"
   ]
  },
  {
   "cell_type": "code",
   "execution_count": 14,
   "id": "c2aef67d-e368-4f2a-9f79-9c9eaccbf227",
   "metadata": {},
   "outputs": [],
   "source": [
    "m"
   ]
  },
  {
   "cell_type": "code",
   "execution_count": null,
   "id": "3324cae8-4f88-4fc8-b000-e68519568101",
   "metadata": {},
   "outputs": [],
   "source": []
  }
 ],
 "metadata": {
  "kernelspec": {
   "display_name": "Python 3 (ipykernel)",
   "language": "python",
   "name": "python3"
  },
  "language_info": {
   "codemirror_mode": {
    "name": "ipython",
    "version": 3
   },
   "file_extension": ".py",
   "mimetype": "text/x-python",
   "name": "python",
   "nbconvert_exporter": "python",
   "pygments_lexer": "ipython3",
   "version": "3.12.2"
  }
 },
 "nbformat": 4,
 "nbformat_minor": 5
}
