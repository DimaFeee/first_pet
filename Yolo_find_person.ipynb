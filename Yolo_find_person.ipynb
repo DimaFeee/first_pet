{
 "cells": [
  {
   "cell_type": "code",
   "execution_count": null,
   "id": "5eb8ee20-d7af-4dae-94c1-862c05da9e6a",
   "metadata": {},
   "outputs": [],
   "source": [
    "!pip3 install opencv-python torch torchvision\n"
   ]
  },
  {
   "cell_type": "code",
   "execution_count": null,
   "id": "0a8b53ca-89a9-4b47-90e3-1ef609c05c33",
   "metadata": {
    "scrolled": true
   },
   "outputs": [],
   "source": [
    "import cv2\n",
    "import torch\n",
    "\n",
    "# Загрузка модели YOLOv5\n",
    "model = torch.hub.load('ultralytics/yolov5', 'yolov5s')  # Используйте yolov5s для быстрой обработки или yolov5m/yolov5l/yolov5x для более точного распознавания\n",
    "\n",
    "# Загрузка изображения\n",
    "img = cv2.imread('path_to_your_image.jpg')\n",
    "\n",
    "# Преобразование изображения в формат, подходящий для модели\n",
    "results = model(img)\n",
    "\n",
    "# Получение результатов распознавания\n",
    "labels, confidences, boxes = results.xyxyn[0][:, -1].numpy(), results.xyxyn[0][:, -2].numpy(), results.xyxyn[0][:, :4].numpy()\n",
    "\n",
    "# Рисование прямоугольников вокруг обнаруженных объектов\n",
    "for box in boxes:\n",
    "    x1, y1, x2, y2 = box.astype(int)\n",
    "    cv2.rectangle(img, (x1, y1), (x2, y2), (255, 0, 0), 2)\n",
    "\n",
    "# Отображение изображения с выделенными объектами\n",
    "cv2.imshow('Image', img)\n",
    "cv2.waitKey(0)\n",
    "cv2.destroyAllWindows()\n"
   ]
  },
  {
   "cell_type": "code",
   "execution_count": null,
   "id": "0c5a6573-cd37-4945-a341-25578a3dc899",
   "metadata": {},
   "outputs": [],
   "source": []
  }
 ],
 "metadata": {
  "kernelspec": {
   "display_name": "Python 3 (ipykernel)",
   "language": "python",
   "name": "python3"
  },
  "language_info": {
   "codemirror_mode": {
    "name": "ipython",
    "version": 3
   },
   "file_extension": ".py",
   "mimetype": "text/x-python",
   "name": "python",
   "nbconvert_exporter": "python",
   "pygments_lexer": "ipython3",
   "version": "3.12.2"
  }
 },
 "nbformat": 4,
 "nbformat_minor": 5
}
