{
 "cells": [
  {
   "cell_type": "code",
   "execution_count": 1,
   "id": "52a0bf4e-7246-4f9d-b003-03e7dbb1800e",
   "metadata": {},
   "outputs": [],
   "source": [
    "import random"
   ]
  },
  {
   "cell_type": "code",
   "execution_count": 17,
   "id": "679afdb2-a9d3-42ed-a7e0-f864bac468c5",
   "metadata": {},
   "outputs": [],
   "source": [
    "# Список слов для угадывания\n",
    "words = [\"apple\", \"banana\", \"cherry\", \"date\", \"elderberry\"]\n",
    "\n",
    "def draw_hangman(state):\n",
    "    \"\"\"Функция для отрисовки виселицы.\"\"\"\n",
    "    hangman_parts = ['''\n",
    "        +---+\n",
    "        |   |\n",
    "            O\n",
    "            |\n",
    "            |\n",
    "    ''', '''\n",
    "        +---+\n",
    "        |   |\n",
    "            O\n",
    "           /|\n",
    "            |\n",
    "    ''', '''\n",
    "        +---+\n",
    "        |   |\n",
    "            O\n",
    "           /|\\\\\n",
    "            |\n",
    "    ''', '''\n",
    "        +---+\n",
    "        |   |\n",
    "            O\n",
    "           /|\\\\\n",
    "           /\n",
    "    ''', '''\n",
    "        +---+\n",
    "        |   |\n",
    "            O\n",
    "           /|\\\\\n",
    "          / \\\\\n",
    "    ''']\n",
    "    print(state)\n",
    "    print(hangman_parts[-state])\n",
    "\n",
    "def game():\n",
    "    word = random.choice(words).lower()\n",
    "    guessed = \"_\" * len(word)\n",
    "    guessed_letters = []\n",
    "    turns_left = 5\n",
    "\n",
    "    while True:\n",
    "        print(\"\\nCurrent word: \" + guessed)\n",
    "        guess = input(\"Guess a letter: \").lower()\n",
    "        \n",
    "        if guess in guessed_letters:\n",
    "            print(\"You have already guessed this letter.\")\n",
    "            continue\n",
    "        \n",
    "        if guess in word:\n",
    "            for i, letter in enumerate(word):\n",
    "                if letter == guess:\n",
    "                    guessed = guessed[:i] + letter + guessed[i+1:]\n",
    "            guessed_letters.append(guess)\n",
    "        else:\n",
    "            turns_left -= 1\n",
    "            draw_hangman(turns_left)\n",
    "            \n",
    "            if turns_left == 0:\n",
    "                print(\"Game Over The word was:\", word)\n",
    "                break\n",
    "            \n",
    "        if \"_\" not in guessed:\n",
    "            print(\"Congratulations You won!\")\n",
    "            break"
   ]
  },
  {
   "cell_type": "code",
   "execution_count": 16,
   "id": "aadc6ee4-6f91-43dd-b359-9bf5b013c175",
   "metadata": {},
   "outputs": [
    {
     "name": "stdout",
     "output_type": "stream",
     "text": [
      "\n",
      "Current word: ______\n"
     ]
    },
    {
     "name": "stdin",
     "output_type": "stream",
     "text": [
      "Guess a letter:  a\n"
     ]
    },
    {
     "name": "stdout",
     "output_type": "stream",
     "text": [
      "4\n",
      "\n",
      "        +---+\n",
      "        |   |\n",
      "            O\n",
      "           /|\n",
      "            |\n",
      "    \n",
      "\n",
      "Current word: ______\n"
     ]
    },
    {
     "name": "stdin",
     "output_type": "stream",
     "text": [
      "Guess a letter:  c\n"
     ]
    },
    {
     "name": "stdout",
     "output_type": "stream",
     "text": [
      "\n",
      "Current word: c_____\n"
     ]
    },
    {
     "name": "stdin",
     "output_type": "stream",
     "text": [
      "Guess a letter:  e\n"
     ]
    },
    {
     "name": "stdout",
     "output_type": "stream",
     "text": [
      "\n",
      "Current word: c_e___\n"
     ]
    },
    {
     "name": "stdin",
     "output_type": "stream",
     "text": [
      "Guess a letter:  h\n"
     ]
    },
    {
     "name": "stdout",
     "output_type": "stream",
     "text": [
      "\n",
      "Current word: che___\n"
     ]
    },
    {
     "name": "stdin",
     "output_type": "stream",
     "text": [
      "Guess a letter:  r\n"
     ]
    },
    {
     "name": "stdout",
     "output_type": "stream",
     "text": [
      "\n",
      "Current word: cherr_\n"
     ]
    },
    {
     "name": "stdin",
     "output_type": "stream",
     "text": [
      "Guess a letter:  y\n"
     ]
    },
    {
     "name": "stdout",
     "output_type": "stream",
     "text": [
      "Congratulations You won!\n"
     ]
    }
   ],
   "source": [
    "game()"
   ]
  },
  {
   "cell_type": "code",
   "execution_count": null,
   "id": "73c2548a-786a-408d-a197-af6a4821101c",
   "metadata": {},
   "outputs": [],
   "source": []
  }
 ],
 "metadata": {
  "kernelspec": {
   "display_name": "Python 3 (ipykernel)",
   "language": "python",
   "name": "python3"
  },
  "language_info": {
   "codemirror_mode": {
    "name": "ipython",
    "version": 3
   },
   "file_extension": ".py",
   "mimetype": "text/x-python",
   "name": "python",
   "nbconvert_exporter": "python",
   "pygments_lexer": "ipython3",
   "version": "3.12.2"
  }
 },
 "nbformat": 4,
 "nbformat_minor": 5
}
